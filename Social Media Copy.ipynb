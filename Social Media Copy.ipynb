{
 "cells": [
  {
   "cell_type": "code",
   "execution_count": 1,
   "metadata": {},
   "outputs": [],
   "source": [
    "import pandas as pd\n",
    "from bs4 import BeautifulSoup\n",
    "import requests\n",
    "import re\n",
    "import numpy as np"
   ]
  },
  {
   "cell_type": "markdown",
   "metadata": {},
   "source": [
    "### Getting the website"
   ]
  },
  {
   "cell_type": "code",
   "execution_count": 2,
   "metadata": {},
   "outputs": [],
   "source": [
    "url = \"https://terramano.co/blogs/stories-from-the-mountain/justin-potter-the-hike-where-i-fell\"\n",
    "page = requests.get(url)\n",
    "soup = BeautifulSoup(page.content, 'html.parser')"
   ]
  },
  {
   "cell_type": "code",
   "execution_count": 3,
   "metadata": {},
   "outputs": [],
   "source": [
    "#### Get blog title\n",
    "blog_title = soup.find(\"title\").text.replace('\\n','').strip()\n",
    "author = soup.find(\"title\").text.replace('\\n','').strip().split(\" - \")[0]\n",
    "subject = soup.find(\"title\").text.replace('\\n','').strip().split(\" - \")[1].replace(\" – Terra Mano\", '')"
   ]
  },
  {
   "cell_type": "markdown",
   "metadata": {},
   "source": [
    "#### Getting the share buttons"
   ]
  },
  {
   "cell_type": "code",
   "execution_count": 4,
   "metadata": {},
   "outputs": [
    {
     "name": "stdout",
     "output_type": "stream",
     "text": [
      "//www.facebook.com/sharer.php?u=https://terramano.co/blogs/stories-from-the-mountain/justin-potter-the-hike-where-i-fell-in-love\n",
      "\n",
      "//twitter.com/share?text=Justin%20Potter%20-%20The%20Hike%20Where%20I%20Fell%20In%20Love&url=https://terramano.co/blogs/stories-from-the-mountain/justin-potter-the-hike-where-i-fell-in-love\n",
      "\n",
      "//pinterest.com/pin/create/button/?url=https://terramano.co/blogs/stories-from-the-mountain/justin-potter-the-hike-where-i-fell-in-love&media=//cdn.shopify.com/s/files/1/0104/7281/6691/articles/thumbnail_template_rect_4fa6c0af-1b10-4584-8b3d-6420fa499657_1024x1024.jpg?v=1581697554&description=Justin%20Potter%20-%20The%20Hike%20Where%20I%20Fell%20In%20Love\n"
     ]
    }
   ],
   "source": [
    "facebook_share = soup.find(\"a\", {\"class\": \"share-facebook\"})['href']\n",
    "twitter_share = soup.find(\"a\", {\"class\": \"share-twitter\"})['href']\n",
    "pinterest_share = soup.find(\"a\", {\"class\": \"share-pinterest\"})['href']\n",
    "\n",
    "print (facebook_share)\n",
    "print ()\n",
    "print (twitter_share)\n",
    "print ()\n",
    "print (pinterest_share)"
   ]
  },
  {
   "cell_type": "markdown",
   "metadata": {},
   "source": [
    "#### Get custom hashtags"
   ]
  },
  {
   "cell_type": "code",
   "execution_count": 5,
   "metadata": {},
   "outputs": [
    {
     "name": "stdout",
     "output_type": "stream",
     "text": [
      "#JustinPotter #Hawksbill #MtHumphreys #Rainier #Canon5DMarkIVCamera #TommyWhite #MedicineLake #MtSiyeh #Instagram #TerraMano #Findouthow #AmericanLandscapes #GetStoriesFromTheMountainDelivereddirectlytoyourinbox\n"
     ]
    }
   ],
   "source": [
    "hash_list = []\n",
    "for elem in soup.findAll('h4', text = re.compile('Hello'))[0].find_next_siblings():\n",
    "    single_elem = elem.find('a')\n",
    "    \n",
    "    if single_elem:\n",
    "        hashtag = single_elem.text.replace(\".\", \"\").replace(\" \", \"\").replace(\"www\", \"\").replace(\"com\", \"\")\n",
    "        hash_list.append((\"#{}\".format(hashtag)))\n",
    "print (\" \".join(hash_list))"
   ]
  },
  {
   "cell_type": "markdown",
   "metadata": {},
   "source": [
    "#### Getting the blockquotes"
   ]
  },
  {
   "cell_type": "code",
   "execution_count": 6,
   "metadata": {},
   "outputs": [],
   "source": [
    "block_quotes = []\n",
    "for block_quote in soup.findAll(\"blockquote\"):\n",
    "    block_quotes.append(block_quote.text.replace('\\n',''))"
   ]
  },
  {
   "cell_type": "markdown",
   "metadata": {},
   "source": [
    "#### Getting first intro paragraph"
   ]
  },
  {
   "cell_type": "code",
   "execution_count": 7,
   "metadata": {},
   "outputs": [],
   "source": [
    "intro_paragraphs = []\n",
    "for element in soup.findAll('h4', text = re.compile('Hello'))[0].find_next_siblings():\n",
    "    if element.text == \"What’s your Story From The Mountain?\" or element.text=='':\n",
    "        break\n",
    "    else:\n",
    "        intro_paragraphs.append(element.text)"
   ]
  },
  {
   "cell_type": "markdown",
   "metadata": {},
   "source": [
    "#### Instagram copy"
   ]
  },
  {
   "cell_type": "code",
   "execution_count": 8,
   "metadata": {},
   "outputs": [],
   "source": [
    "dh = pd.read_csv('hashtags.csv')\n",
    "hashtags_sample = dh.sample(10).values\n",
    "hashtags_sample = \" \".join([\"#{}\".format(x[0]) for x in hashtags_sample])"
   ]
  },
  {
   "cell_type": "code",
   "execution_count": 9,
   "metadata": {},
   "outputs": [],
   "source": [
    "insta_url_profile = soup.find('a', href=re.compile('//www\\.instagram\\.com/'))['href']\n",
    "insta_handle = \"@{}\".format(insta_url_profile.split(\"instagram.com\")[-1][1:]).replace(\"/\", \"\")\n",
    "\n",
    "if \"?\" in insta_handle:\n",
    "    insta_handle = insta_handle.split(\"?\")[0]"
   ]
  },
  {
   "cell_type": "code",
   "execution_count": 10,
   "metadata": {},
   "outputs": [
    {
     "name": "stdout",
     "output_type": "stream",
     "text": [
      "@jpotterphoto: Hello, my name is Justin Potter, I’m a photographer currently living outside of Charlotte, NC. I grew up in Northern California mountains where my friends and I spent every free minute we could either riding our bikes on some trails or exploring the woods.\n",
      ".\n",
      "We moved away from the Mountains when I was around 9, I didn’t have the mountains to play in but I still found myself always outside. So my love for the outdoors is one of those things that's always been a part of my life.\n",
      "-\n",
      "Justin Potter - The Hike Where I Fell In Love – Terra Mano\n",
      "Read more @ link in bio\n",
      "-\n",
      ".\n",
      ".\n",
      ".\n",
      "#naturelovers #mountains #mountain #foresterculture #forestgump #hikemore #forestlover #foresta #hikemoreworryless #hiketrail\n",
      " #JustinPotter #Hawksbill #MtHumphreys #Rainier #Canon5DMarkIVCamera #TommyWhite #MedicineLake #MtSiyeh #Instagram #TerraMano #Findouthow #AmericanLandscapes #GetStoriesFromTheMountainDelivereddirectlytoyourinbox\n"
     ]
    }
   ],
   "source": [
    "instagram_copy = \"\"\"{}: {}\n",
    ".\n",
    "{}\n",
    "-\n",
    "{}\n",
    "Read more @ link in bio\n",
    "-\n",
    ".\n",
    ".\n",
    ".\n",
    "{}\n",
    "\"\"\".format(insta_handle, intro_paragraphs[0], intro_paragraphs[1], blog_title, hashtags_sample)\n",
    "\n",
    "print (instagram_copy, \" \".join(hash_list))"
   ]
  },
  {
   "cell_type": "markdown",
   "metadata": {},
   "source": [
    "### Facebook Self Post Copy"
   ]
  },
  {
   "cell_type": "code",
   "execution_count": 11,
   "metadata": {},
   "outputs": [
    {
     "name": "stdout",
     "output_type": "stream",
     "text": [
      "\n",
      "Hello, my name is Justin Potter, I’m a photographer currently living outside of Charlotte, NC. I grew up in Northern California mountains where my friends and I spent every free minute we could either riding our bikes on some trails or exploring the woods.\n",
      "\n",
      "We moved away from the Mountains when I was around 9, I didn’t have the mountains to play in but I still found myself always outside. So my love for the outdoors is one of those things that's always been a part of my life.\n",
      "- \n",
      "Justin Potter - The Hike Where I Fell In Love – Terra Mano\n",
      "- \n",
      "https://terramano.co/blogs/stories-from-the-mountain/justin-potter-the-hike-where-i-fell\n",
      " #JustinPotter #Hawksbill #MtHumphreys #Rainier #Canon5DMarkIVCamera #TommyWhite #MedicineLake #MtSiyeh #Instagram #TerraMano #Findouthow #AmericanLandscapes #GetStoriesFromTheMountainDelivereddirectlytoyourinbox\n"
     ]
    }
   ],
   "source": [
    "facebook_self_post_copy = '''\n",
    "{}\n",
    "\n",
    "{}\n",
    "- \n",
    "{}\n",
    "- \n",
    "{}\n",
    "'''.format(intro_paragraphs[0], intro_paragraphs[1], blog_title, url)\n",
    "\n",
    "print(facebook_self_post_copy, \" \".join(hash_list))"
   ]
  },
  {
   "cell_type": "markdown",
   "metadata": {},
   "source": [
    "### Facebook Group Post Copy"
   ]
  },
  {
   "cell_type": "code",
   "execution_count": 12,
   "metadata": {
    "scrolled": true
   },
   "outputs": [
    {
     "name": "stdout",
     "output_type": "stream",
     "text": [
      "\n",
      "Story From The Mountain: Justin Potter - The Hike Where I Fell In Love\n",
      "\n",
      "My name is Greg and I run Stories From The Mountain ⛰️, a collection of interviews covering awesome and inspiring hikers/climbers/and photographers/runners.\n",
      "\n",
      "Here I wanted to share the story of Justin Potter as they cover The Hike Where I Fell In Love\n",
      "\n",
      "\"Hello, my name is Justin Potter, I’m a photographer currently living outside of Charlotte, NC. I grew up in Northern California mountains where my friends and I spent every free minute we could either riding our bikes on some trails or exploring the woods.\n",
      "\n",
      "We moved away from the Mountains when I was around 9, I didn’t have the mountains to play in but I still found myself always outside. So my love for the outdoors is one of those things that's always been a part of my life.\"\n",
      "\n",
      "We go on to cover a bunch of questions such as:\n",
      "1. The favorite item in their pack 🎒\n",
      "2. An awesome 'Story From The Mountain' ⛰️\n",
      "3. The best steps for hikers who are just starting out 🥾\n",
      "4. What they've learned through themselves through hiking/climbing 🧗‍\n",
      "5. The people most influential to them 📚\n",
      " \n",
      "https://terramano.co/blogs/stories-from-the-mountain/justin-potter-the-hike-where-i-fell\n",
      "\n"
     ]
    }
   ],
   "source": [
    "facebook_group_post_copy = '''\n",
    "Story From The Mountain: {}\n",
    "\n",
    "My name is Greg and I run Stories From The Mountain ⛰️, a collection of interviews covering awesome and inspiring hikers/climbers/and photographers/runners.\n",
    "\n",
    "Here I wanted to share the story of {} as they cover {}\n",
    "\n",
    "\"{}\n",
    "\n",
    "{}\"\n",
    "\n",
    "We go on to cover a bunch of questions such as:\n",
    "1. The favorite item in their pack 🎒\n",
    "2. An awesome 'Story From The Mountain' ⛰️\n",
    "3. The best steps for hikers who are just starting out 🥾\n",
    "4. What they've learned through themselves through hiking/climbing 🧗‍\n",
    "5. The people most influential to them 📚\n",
    " \n",
    "{}\n",
    "'''.format(blog_title.replace(\" – Terra Mano\", ''), author, subject, intro_paragraphs[0], intro_paragraphs[1], url)\n",
    "\n",
    "print(facebook_group_post_copy)"
   ]
  },
  {
   "cell_type": "markdown",
   "metadata": {},
   "source": [
    "### Twitter"
   ]
  },
  {
   "cell_type": "code",
   "execution_count": 13,
   "metadata": {},
   "outputs": [
    {
     "name": "stdout",
     "output_type": "stream",
     "text": [
      "\"I finally realized that there's nothing we can't go see or do. \"\n",
      "Justin Potter - The Hike Where I Fell In Love – Terra Mano👇\n",
      "https://terramano.co/blogs/stories-from-the-mountain/justin-potter-the-hike-where-i-fell #JustinPotter #Hawksbill #MtHumphreys #Rainier #Canon5DMarkIVCamera #TommyWhite #MedicineLake #MtSiyeh #Instagram #TerraMano #Findouthow #AmericanLandscapes #GetStoriesFromTheMountainDelivereddirectlytoyourinbox\n"
     ]
    }
   ],
   "source": [
    "twitter_copy = \"\"\"\"{}\"\n",
    "{}👇\n",
    "{}\"\"\".format(block_quotes[0], blog_title, url)\n",
    "\n",
    "print(twitter_copy, \" \".join(hash_list))"
   ]
  },
  {
   "cell_type": "markdown",
   "metadata": {},
   "source": [
    "### Twitter & Pinterest"
   ]
  },
  {
   "cell_type": "code",
   "execution_count": 14,
   "metadata": {},
   "outputs": [
    {
     "name": "stdout",
     "output_type": "stream",
     "text": [
      "\"I finally realized that there's nothing we can't go see or do. \"\n",
      "Justin Potter - The Hike Where I Fell In Love – Terra Mano👇\n",
      "https://terramano.co/blogs/stories-from-the-mountain/justin-potter-the-hike-where-i-fell\n"
     ]
    }
   ],
   "source": [
    "twitter_copy = \"\"\"\"{}\"\n",
    "{}👇\n",
    "{}\"\"\".format(block_quotes[0], blog_title, url)\n",
    "\n",
    "print(twitter_copy)"
   ]
  },
  {
   "cell_type": "markdown",
   "metadata": {},
   "source": [
    "### Email Copy"
   ]
  },
  {
   "cell_type": "code",
   "execution_count": 15,
   "metadata": {},
   "outputs": [
    {
     "name": "stdout",
     "output_type": "stream",
     "text": [
      "Hello Hikers!\n",
      "\n",
      "Today we hear from Justin Potter about The Hike Where I Fell In Love:\n",
      "\n",
      "\"Hello, my name is Justin Potter, I’m a photographer currently living outside of Charlotte, NC. I grew up in Northern California mountains where my friends and I spent every free minute we could either riding our bikes on some trails or exploring the woods.\n",
      "\n",
      "We moved away from the Mountains when I was around 9, I didn’t have the mountains to play in but I still found myself always outside. So my love for the outdoors is one of those things that's always been a part of my life.\"\n",
      "\n",
      "Continue reading at \n",
      "\n"
     ]
    }
   ],
   "source": [
    "team_nouns = ['Team', 'Crew', 'Good People', 'Hikers', 'Nature Lovers', 'Wonderers']\n",
    "email_copy = \"\"\"Hello {}!\n",
    "\n",
    "Today we hear from {} about {}:\n",
    "\n",
    "\"{}\n",
    "\n",
    "{}\"\n",
    "\n",
    "Continue reading at \n",
    "\"\"\".format(np.random.choice(team_nouns), author, subject, intro_paragraphs[0], intro_paragraphs[1])\n",
    "\n",
    "print(email_copy)"
   ]
  },
  {
   "cell_type": "markdown",
   "metadata": {},
   "source": [
    "[Stories From The Mountain](https://terramano.co/blogs/stories-from-the-mountain)"
   ]
  },
  {
   "cell_type": "markdown",
   "metadata": {},
   "source": [
    "### Reddit Post"
   ]
  },
  {
   "cell_type": "markdown",
   "metadata": {},
   "source": [
    "##### Liz Fieser - Falling In Love With The Matt Davis Trail\n",
    "\n",
    "Hi, it's Greg from [Stories From The Mountain](https://terramano.co/blogs/stories-from-the-mountain). This week, I interviewed Liz Fieser, a Hiker, Trail Runner, Road Cyclist, Story Teller from Chattanooga, TN.\n",
    "\n",
    "Liz tell us the story of how she Fell In Love With The Matt Davis Trail\n",
    "\n",
    "#### Hello! Who are you and where are your hiking roots?\n",
    "I’m Liz, I’m a chronic over-thinker and hopeless romantic daydreamer who finds solace on the trail.\n",
    "\n",
    "Although I wasn’t raised hiking long distances or backpacking, my parents instilled a curiosity for the world around me. That wonder translated to nature when I was in high school and bought my first pair of trail runners, La Sportiva Fireblades (I ended up having three pairs of these, but they eventually discontinued them. I’m still heartbroken). Those bright yellow Fireblades made me feel unstoppable. Even if I was slow, I felt fast every time I put them on. \n",
    "\n",
    "After school, I would hit the local trails near my house on Signal Mountain, Tennessee. Looping through the downhills, often walking the uphills, and letting my mind run wild with thoughts and dreams.\n",
    "\n",
    "At the start of the trail, I’d always be riddled with anxieties. Overthinking my running and breathing, overthinking the events in my life, and overthinking about the people, but after a mile in those thoughts would eventually be released to the loving arms of nature that so beautifully held space for me. My anxieties would drift off to the clouds and nature became a canvas for painting elaborate daydreams.\n",
    "\n",
    "Since high school graduation, I traversed trails across the United States. Challenging my fear of heights on Angels Landing in Zion National Park, winding my way through some of the Appalachian Trail in West Virginia and Tennessee, trail running the Grand Canyon from the south rim to Phantom Ranch in one very intense day, trail running majority of Arches National Park in another grueling but extremely fun day, running through the magical forests of Mount Shasta, and the list goes on and on…\n",
    "\n",
    "I love the thrill of new places, places I’ve only read about, seen pictures of, or heard tales around. There is something so satisfying to be able to make memories and collect stories of far away places to be shared at the next campfire.\n",
    "\n",
    "#### What's your Story From The Mountain?\n",
    "The Matt Davis Trail, which can be found just north of San Francisco in the little town of Stinson Beach, traverses through the Marin headlands, around ancient redwoods, and provides stunning views of the Pacific Ocean. I joke with my friends that Matt Davis was my first love in San Francisco.\n",
    "\n",
    "This trail served as my deep connection to nature and my deep love while I spent 2 years working in the tech industry. During those 2 years, I started to lose myself and the core of who Liz was deep down. My priorities shifted and my goals changed, partially because I was trying to fit into a mold and system that just wasn’t me.\n",
    "\n",
    "> It was the first trail I ever did in San Francisco and my last before I quit my job and left the city to pursue the unknown and to renew my sense of wonder for the world.\n",
    "\n",
    "While my internal compass was spinning, Matt Davis was a constant. A rough work week, a heartbreak, or just feeling lost in life?\n",
    "\n",
    "I would let the tears roll down my cheeks as I trudged up the Steep Ravine Trail. Finally at Pan Toll, the highest point, I’d feel immense relief and I’d see Matt Davis. Dissolving any stress I brought with me, Matt Davis would grant me wings. I’d book it down the trail with renewed freedom, the weight quite literally lifted off my shoulders into the clouds of Mount Tam.\n",
    "\n",
    "Matt Davis became my boyfriend, my therapist, and my saving grace. It was the first trail I ever did in San Francisco and my last before I quit my job and left the city to pursue the unknown and to renew my sense of wonder for the world.\n",
    "\n",
    "I tell this story because I believe that sometimes we forget the value of a breath of clean air filling our lungs, the relief we physically feel for showing up as completely ourselves to nature, and the healing power of nature to hearts, minds, and souls.\n",
    "\n",
    "And while I left San Francisco, there is still a part of me on that Matt Davis Trail and I imagine we will meet many more times throughout my life. But until then, I’m off to find solace and daydreams on other trails with my eyes set on some big adventures for 2020.\n",
    "\n",
    "My time spent being active in the woods has taught me more about myself than any other activity I’ve participated in. There is something about the way my senses come alive when I’m out there that brings me back to myself and my soul.\n",
    "\n",
    "For example,  all 5 senses are engaged. Just one breeze in the woods provides a sensory overload… the sweet smell of eucalyptus, the slightly salty taste of the ocean on my lips, the gentle caress of the wind, the soft fluttering greens of the leaves around me, and the symphonic sound of the trees dancing.  \n",
    "\n",
    "The woods to me, is both losing yourself and finding yourself. You show up with baggage and the weight of your world on your shoulders, by the time you reemerge, you are thousands of pounds lighter and closer to the core of self.\n",
    "\n",
    "> There is something about the way my senses come alive when I’m out there that brings me back to myself and my soul.\n",
    "\n",
    "My biggest mistake when it comes to getting out there is psyching myself out because I’m not the fastest runner and I don’t have the coolest gear… This doesn’t matter. What matters is showing up and remembering it’s that simple.\n",
    "\n",
    "#### Through hiking/climbing, have you learned anything about yourself or nature you'd like to pass on to others?\n",
    "My time spent being active in the woods has taught me more about myself than any other activity I’ve participated in. There is something about the way my senses come alive when I’m out there that brings me back to myself and my soul.\n",
    "\n",
    "For example,  all 5 senses are engaged. Just one breeze in the woods provides a sensory overload… the sweet smell of eucalyptus, the slightly salty taste of the ocean on my lips, the gentle caress of the wind, the soft fluttering greens of the leaves around me, and the symphonic sound of the trees dancing.  \n",
    "\n",
    "The woods to me, is both losing yourself and finding yourself. You show up with baggage and the weight of your world on your shoulders, by the time you reemerge, you are thousands of pounds lighter and closer to the core of self.\n",
    "\n",
    "> There is something about the way my senses come alive when I’m out there that brings me back to myself and my soul.\n",
    "\n",
    "My biggest mistake when it comes to getting out there is psyching myself out because I’m not the fastest runner and I don’t have the coolest gear… This doesn’t matter. What matters is showing up and remembering it’s that simple.\n",
    "\n",
    "#### What's your favorite item in your pack?\n",
    "If I’m going to be honest, I have to say I wouldn’t leave my iPhone. It’s both my camera and my lifeline just in case. I always turn it on airplane mode so I won’t be distracted but the wildness can be wild and sometimes when I head out solo, having that lifeline just in case can be vital….\n",
    "\n",
    "#### Do you have any advice for other hikers who are just starting out?\n",
    "Nature is right outside your front door. It’s waiting for you! My advice is to try all the activities, because nature is not a one size fits all. Don’t be afraid to ask questions, to make new friends, and to “look silly.”\n",
    "\n",
    "For a long time, I wouldn’t ask questions when it came to my road bike, the Cervelo R3. I was embarrassed and nervous that I would seem like I didn’t know what I was doing. I was scared to ask about upkeep, changing tires, clip in shoes… there are a million facets of road biking and I was wildly intimidated.\n",
    "\n",
    "> Nature is right outside your front door. It’s waiting for you!\n",
    "\n",
    "But in reality, no one becomes an expert without asking questions and the more you ask the more you’ll be prepared. I found bike shops with extremely down to earth humans who were more than happy to show me the ropes and even ride with me.\n",
    "\n",
    "Also, know that you have people cheering you on!\n",
    "\n",
    "#### What have been the most influential hiking books, podcats, or people?\n",
    "I have a wonderful support crew in my close circle. My Mom, Colleen, is first and foremost, my biggest cheerleader, supporter of crazy plans, and significant worrier.\n",
    "\n",
    "My sister, Emily, is also just as big of a dreamer as I am especially when it comes to outdoor challenges. She summited Kilimanjaro last year and we have some dreams for 2020 we’d love to accomplish.\n",
    "\n",
    "Finally, my Dad and Stepmom, George and Brenda, are wildly supportive in my outdoor activities. They are constantly encouraging my narrative journey and capturing those stories that are told around the campfire… These humans have been my pit crew through my ups and downs.\n",
    "\n",
    "I have several influential “outdoor” books that helped shape my current relationship with nature.\n",
    "\n",
    "“A Walk in the Woods” by Bill Bryson\n",
    "“Into the Wild” by Jon Krakauer\n",
    "“Into Thin Air” by John Kracker \n",
    "“The Alchemist” by Paulo Coehl -- not necessarily an “outdoor” book, but is hands down my favorite book and gave me so much solace. I’ve read it on many camping trips!\n",
    "\n",
    "I also follow a number of complete badass women on Instagram who inspire me to live life outside and follow my passions. \n",
    "\n",
    " * @briannamadia\n",
    " * @katieboue\n",
    " * @rachel.pohl\n",
    "\n",
    "#### Where's your next adventure?\n",
    "My next adventure is a doozy. I’m heading into the unknown since I’ve quit my job…\n",
    "\n",
    "I’m utilizing this time removed from the life I once knew to figure out what direction I want to move in for the foreseeable future. It’s scary to have so much ambiguity, but I’m thrilled at the prospect of finally following my own path versus something someone or society has so beautifully laid out for me.\n",
    "\n",
    "I imagine this next chapter of my life will be riddled with challenges, but it’s one that I’m greeting with excitement and open arms…. Stay tuned folks!\n",
    "\n",
    "#### Where can others learn more about you?\n",
    "To find out more about my adventures, to connect, or to plan a hike together hop over to my Instagram (@lizfieser) or my blog (www.lizfieser.com/blog)!"
   ]
  },
  {
   "cell_type": "code",
   "execution_count": null,
   "metadata": {},
   "outputs": [],
   "source": []
  }
 ],
 "metadata": {
  "kernelspec": {
   "display_name": "Python 3",
   "language": "python",
   "name": "python3"
  },
  "language_info": {
   "codemirror_mode": {
    "name": "ipython",
    "version": 3
   },
   "file_extension": ".py",
   "mimetype": "text/x-python",
   "name": "python",
   "nbconvert_exporter": "python",
   "pygments_lexer": "ipython3",
   "version": "3.7.3"
  }
 },
 "nbformat": 4,
 "nbformat_minor": 2
}
